{
 "cells": [
  {
   "cell_type": "code",
   "execution_count": 1,
   "metadata": {},
   "outputs": [
    {
     "name": "stdout",
     "output_type": "stream",
     "text": [
      "Advertencia velocidad peligrosa\n"
     ]
    }
   ],
   "source": [
    "# Añadir el código necesario para crear una variable que guarde la velocidad del asteroide.\n",
    "# Escribe una expresión de prueba para calcular si necesita una advertencia.\n",
    "# Agregue las instrucciones que se ejecutarán si la expresión de prueba es true o false.\n",
    "\n",
    "def velocidadAsteroide(velocidad):\n",
    "    velocidadAsteroide = velocidad\n",
    "    if velocidadAsteroide >= 25:\n",
    "        print(\"Advertencia velocidad peligrosa\")\n",
    "    else:\n",
    "        print(\"Todo chido\")\n",
    "\n",
    "velocidadAsteroide(500)"
   ]
  },
  {
   "cell_type": "code",
   "execution_count": 2,
   "metadata": {},
   "outputs": [
    {
     "name": "stdout",
     "output_type": "stream",
     "text": [
      "Aqui no pasa nada\n"
     ]
    }
   ],
   "source": [
    "# Agrega el código para crear una variable para un asteroide que viaja a 19 km/s\n",
    "# Escribe varias expresiones de prueba para determinar si puedes ver el rayo de luz desde la tierra\n",
    "# Agrega las instrucciones que se ejecutarán si las expresiones de prueba son True o False\n",
    "\n",
    "def asteroideRayoDeLuz(velocidad):\n",
    "    velocidadAsteroide = velocidad\n",
    "\n",
    "    if velocidadAsteroide > 20:\n",
    "        print(\"Vas a poder ver un rayo de luz\")\n",
    "    elif velocidadAsteroide == 20:\n",
    "        print(\"Vas a poder ver un rayo de luz\")\n",
    "    else:\n",
    "        print(\"Aqui no pasa nada\")\n",
    "\n",
    "asteroideRayoDeLuz(19)"
   ]
  },
  {
   "cell_type": "code",
   "execution_count": 3,
   "metadata": {},
   "outputs": [
    {
     "name": "stdout",
     "output_type": "stream",
     "text": [
      "Todo chido puedes ver la luz afuera\n"
     ]
    }
   ],
   "source": [
    "# Agrega el código para crear nuevas variables para la velocidad y el tamaño del asteroide\n",
    "# Para probar el código, prueba con varias velocidades y tamaños\n",
    "# Escribe varias expresiones de prueba o combinaciones de expresiones de prueba para determinar qué mensaje se debe enviar a Tierra.\n",
    "\n",
    "def danoAlaTierra(velocidad, tamanio):\n",
    "    velocidadAsteroide = velocidad\n",
    "    tamanioAsteroide = tamanio\n",
    "\n",
    "    if velocidadAsteroide > 20 and tamanioAsteroide >= 25:\n",
    "        print(\"RIP\")\n",
    "    elif velocidadAsteroide < 20 and tamanioAsteroide < 25:\n",
    "        print(\"Todo chido puedes ver la luz afuera\")\n",
    "    else:\n",
    "        print(\"Todo chido puedes ver la luz afuera\")\n",
    "\n",
    "danoAlaTierra(20,20)"
   ]
  }
 ],
 "metadata": {
  "interpreter": {
   "hash": "ec7f27d088e4d8b0116124b4cebca1331e57e43d9c79f36922c537f882758915"
  },
  "kernelspec": {
   "display_name": "Python 3.8.10 64-bit (windows store)",
   "language": "python",
   "name": "python3"
  },
  "language_info": {
   "codemirror_mode": {
    "name": "ipython",
    "version": 3
   },
   "file_extension": ".py",
   "mimetype": "text/x-python",
   "name": "python",
   "nbconvert_exporter": "python",
   "pygments_lexer": "ipython3",
   "version": "3.8.10"
  },
  "orig_nbformat": 4
 },
 "nbformat": 4,
 "nbformat_minor": 2
}
